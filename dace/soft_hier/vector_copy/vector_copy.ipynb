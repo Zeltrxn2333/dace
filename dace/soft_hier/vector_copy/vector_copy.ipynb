{
 "cells": [
  {
   "cell_type": "code",
   "execution_count": 5,
   "metadata": {},
   "outputs": [],
   "source": [
    "import dace\n",
    "\n",
    "def vec_copy():\n",
    "    sdfg = dace.SDFG(\"soft_hier_vec_copy\")\n",
    "    state = sdfg.add_state(\"main\")\n",
    "    # a_host = sdfg.add_array(\"A\", (256*32, ), dace.float16, dace.dtypes.StorageType.CPU_Heap, transient=True)\n",
    "    a_dev = sdfg.add_array(\"soft_hier_A\", (256*32, ), dace.float16, dace.dtypes.StorageType.SoftHier_HBM, transient=False)\n",
    "    # b_host = sdfg.add_array(\"B\", (256*32, ), dace.float16, dace.dtypes.StorageType.CPU_Heap, transient=True)\n",
    "    b_dev = sdfg.add_array(\"soft_hier_B\", (256*32, ), dace.float16, dace.dtypes.StorageType.SoftHier_HBM, transient=False)\n",
    "    # ahc = state.add_access(\"A\")\n",
    "    adc = state.add_access(\"soft_hier_A\")\n",
    "    # bhc = state.add_access(\"B\")\n",
    "    bdc = state.add_access(\"soft_hier_B\")\n",
    "    frag_a = sdfg.add_array(\"frag_A\", (512, ), dace.float16, dace.dtypes.StorageType.SoftHier_TCDM, transient=True)\n",
    "    frag_b = sdfg.add_array(\"frag_B\", (512, ), dace.float16, dace.dtypes.StorageType.SoftHier_TCDM, transient=True)\n",
    "    #af = state.add_access(\"frag_A\")\n",
    "    #bf = state.add_access(\"frag_B\")\n",
    "\n",
    "    dev_entry, dev_exit = state.add_map(name=\"copy_map_outer\", ndrange={\"i\": dace.subsets.Range([(0, 256*32-1, 8192)])}, schedule=dace.dtypes.ScheduleType.SoftHier_Device)\n",
    "    tblock_entry, tblock_exit = state.add_map(name=\"copy_map_inner\", ndrange={\"ii\": dace.subsets.Range([(0, 256*32-1, 512)])}, schedule=dace.dtypes.ScheduleType.SoftHier_Cluster)\n",
    "\n",
    "    #glb_to_vecin = GlobalToVECIN(name=\"glb_to_vecin_a\", input_names=[\"IN_A\"], output_names=[\"OUT_frag_A\"], queue_length=1, load_length=256)\n",
    "    glb_to_vecin = state.add_access(\"frag_A\")\n",
    "    #vecout_to_glb = VECOUTToGlobal(name=\"vecout_to_glb_b\", input_names=[\"IN_frag_B\"], output_names=[\"OUT_B\"], queue_length=1, load_length=256)\n",
    "    libnode = state.add_access(\"frag_B\")\n",
    "    #libnode = VecUnit(name=\"vecout_to_glb_b\", input_names=[\"IN_frag_A\"], output_names=[\"OUT_frag_B\"], queue_length=1, load_length=256)\n",
    "\n",
    "    # state.add_edge(ahc, None, adc, None, dace.memlet.Memlet(f\"A[0:{256*32}]\"))\n",
    "    state.add_edge(adc, None, dev_entry, \"IN_A\", dace.memlet.Memlet(f\"soft_hier_A[0:{256*32}]\"))\n",
    "    state.add_edge(dev_entry, \"OUT_A\", tblock_entry, \"IN_A\", dace.memlet.Memlet(f\"soft_hier_A[0:{256*32}]\"))\n",
    "    state.add_edge(tblock_entry, \"OUT_A\", glb_to_vecin, None, dace.memlet.Memlet(f\"soft_hier_A[i + ii:i + ii + 512]\"))\n",
    "    state.add_edge(glb_to_vecin, None, libnode, None, dace.memlet.Memlet(f\"frag_A[0:512]\"))\n",
    "    state.add_edge(libnode, None, tblock_exit, \"IN_B\", dace.memlet.Memlet(f\"soft_hier_B[i + ii:i + ii + 512]\"))\n",
    "    state.add_edge(tblock_exit, \"OUT_B\", dev_exit, \"IN_B\", dace.memlet.Memlet(f\"soft_hier_B[i + ii:i + ii + 512]\"))\n",
    "    state.add_edge(dev_exit, \"OUT_B\", bdc, None, dace.memlet.Memlet(f\"soft_hier_B[0:{256*32}]\"))\n",
    "    # state.add_edge(bdc, None, bhc, None, dace.memlet.Memlet(f\"B[0:{256*32}]\"))\n",
    "\n",
    "    for n in [dev_entry, tblock_entry]:\n",
    "        n.add_in_connector(\"IN_A\")\n",
    "        n.add_out_connector(\"OUT_A\")\n",
    "\n",
    "    for n in [dev_exit, tblock_exit]:\n",
    "        n.add_in_connector(\"IN_B\")\n",
    "        n.add_out_connector(\"OUT_B\")\n",
    "\n",
    "    #libnode.add_in_connector(\"IN_A\")\n",
    "    #libnode.add_out_connector(\"OUT_B\")\n",
    "\n",
    "    #t = state.add_tasklet(name=\"assign\", inputes={\"_in\"}, outputs={\"_out\"}, code=\"_out = _in\")\n",
    "\n",
    "\n",
    "    sdfg.save(\"soft_hier_2.sdfgz\")\n",
    "    return sdfg"
   ]
  },
  {
   "cell_type": "code",
   "execution_count": 6,
   "metadata": {},
   "outputs": [],
   "source": [
    "s = vec_copy()"
   ]
  },
  {
   "cell_type": "code",
   "execution_count": 7,
   "metadata": {},
   "outputs": [],
   "source": [
    "from IPython.display import Code\n",
    "# Code(s.generate_code()[0].clean_code, language='cpp')\n",
    "# s.compile()"
   ]
  },
  {
   "cell_type": "code",
   "execution_count": 8,
   "metadata": {},
   "outputs": [
    {
     "name": "stdout",
     "output_type": "stream",
     "text": [
      "~~~~~~~~~~~~~~~Dispatching subgraph main in state 0\n",
      "################################Using SoftHierCodeGen Scope######################################\n",
      "Waring: No `gpu_block_size` property specified on map copy_map_outer. \n",
      "krange: 0:8192:8192; kdims: [1]; dsym: [__DAPB0]; bidx: (8192*__DAPB0,)\n",
      "~~~~~~~~~~~~~~~Dispatching subgraph <dace.sdfg.scope.ScopeSubgraphView object at 0x7fc96f557190> in state 0\n",
      "################################Using SoftHierCodeGen Scope######################################\n",
      "~~~~~~~~~~~~~~~Dispatching subgraph <dace.sdfg.scope.ScopeSubgraphView object at 0x7fc96f5547d0> in state 0\n",
      "~~~~~~~~~~~~~~~Finished dispatching subgraph <dace.sdfg.scope.ScopeSubgraphView object at 0x7fc96f5547d0> in state 0\n",
      "~~~~~~~~~~~~~~~Finished dispatching subgraph <dace.sdfg.scope.ScopeSubgraphView object at 0x7fc96f557190> in state 0\n",
      "~~~~~~~~~~~~~~~Finished dispatching subgraph main in state 0\n"
     ]
    },
    {
     "name": "stderr",
     "output_type": "stream",
     "text": [
      "/scratch/dace4softhier/dace_soft_hier/dace/codegen/targets/soft_hier/soft_hier.py:1916: UserWarning: No `gpu_block_size` property specified on map \"copy_map_outer\". Falling back to the configuration entry `compiler.cuda.default_block_size`: 32,1,1. You can either specify the block size to use with the gpu_block_size property, or by adding nested `GPU_ThreadBlock` maps, which map work to individual threads. For more information, see https://spcldace.readthedocs.io/en/latest/optimization/gpu.html\n",
      "  warnings.warn(\n"
     ]
    },
    {
     "data": {
      "text/plain": [
       "<dace.codegen.compiled_sdfg.CompiledSDFG at 0x7fc96fe9bd90>"
      ]
     },
     "execution_count": 8,
     "metadata": {},
     "output_type": "execute_result"
    }
   ],
   "source": [
    "# Code(s.generate_code()[1].clean_code, language='cpp')\n",
    "s.compile()"
   ]
  }
 ],
 "metadata": {
  "kernelspec": {
   "display_name": "Python 3",
   "language": "python",
   "name": "python3"
  },
  "language_info": {
   "codemirror_mode": {
    "name": "ipython",
    "version": 3
   },
   "file_extension": ".py",
   "mimetype": "text/x-python",
   "name": "python",
   "nbconvert_exporter": "python",
   "pygments_lexer": "ipython3",
   "version": "3.11.5"
  }
 },
 "nbformat": 4,
 "nbformat_minor": 2
}
