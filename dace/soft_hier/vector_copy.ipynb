{
 "cells": [
  {
   "cell_type": "code",
   "execution_count": 1,
   "metadata": {},
   "outputs": [
    {
     "data": {
      "text/html": [
       "<script src=\"https://spcl.github.io/dace-webclient/dist/sdfv.js\"></script>\n"
      ],
      "text/plain": [
       "<IPython.core.display.HTML object>"
      ]
     },
     "metadata": {},
     "output_type": "display_data"
    }
   ],
   "source": [
    "import dace\n",
    "\n",
    "def vec_copy():\n",
    "    sdfg = dace.SDFG(\"soft_hier_vec_copy\")\n",
    "    state = sdfg.add_state(\"main\")\n",
    "    a_host = sdfg.add_array(\"A\", (256*32, ), dace.float16, dace.dtypes.StorageType.CPU_Heap, transient=True)\n",
    "    a_dev = sdfg.add_array(\"soft_hier_A\", (256*32, ), dace.float16, dace.dtypes.StorageType.SoftHier_HBM, transient=True)\n",
    "    b_host = sdfg.add_array(\"B\", (256*32, ), dace.float16, dace.dtypes.StorageType.CPU_Heap, transient=True)\n",
    "    b_dev = sdfg.add_array(\"soft_hier_B\", (256*32, ), dace.float16, dace.dtypes.StorageType.SoftHier_HBM, transient=True)\n",
    "    ahc = state.add_access(\"A\")\n",
    "    adc = state.add_access(\"soft_hier_A\")\n",
    "    bhc = state.add_access(\"B\")\n",
    "    bdc = state.add_access(\"soft_hier_B\")\n",
    "    frag_a = sdfg.add_array(\"frag_A\", (512, ), dace.float16, dace.dtypes.StorageType.SoftHier_TCDM, transient=True)\n",
    "    frag_b = sdfg.add_array(\"frag_B\", (512, ), dace.float16, dace.dtypes.StorageType.SoftHier_TCDM, transient=True)\n",
    "    #af = state.add_access(\"frag_A\")\n",
    "    #bf = state.add_access(\"frag_B\")\n",
    "\n",
    "    dev_entry, dev_exit = state.add_map(name=\"copy_map_outer\", ndrange={\"i\": dace.subsets.Range([(0, 256*32-1, 8192)])}, schedule=dace.dtypes.ScheduleType.SoftHier_Device)\n",
    "    tblock_entry, tblock_exit = state.add_map(name=\"copy_map_inner\", ndrange={\"ii\": dace.subsets.Range([(0, 256*32-1, 512)])}, schedule=dace.dtypes.ScheduleType.SoftHier_Cluster)\n",
    "\n",
    "    #glb_to_vecin = GlobalToVECIN(name=\"glb_to_vecin_a\", input_names=[\"IN_A\"], output_names=[\"OUT_frag_A\"], queue_length=1, load_length=256)\n",
    "    glb_to_vecin = state.add_access(\"frag_A\")\n",
    "    #vecout_to_glb = VECOUTToGlobal(name=\"vecout_to_glb_b\", input_names=[\"IN_frag_B\"], output_names=[\"OUT_B\"], queue_length=1, load_length=256)\n",
    "    libnode = state.add_access(\"frag_B\")\n",
    "    #libnode = VecUnit(name=\"vecout_to_glb_b\", input_names=[\"IN_frag_A\"], output_names=[\"OUT_frag_B\"], queue_length=1, load_length=256)\n",
    "\n",
    "    state.add_edge(ahc, None, adc, None, dace.memlet.Memlet(f\"A[0:{256*32}]\"))\n",
    "    state.add_edge(adc, None, dev_entry, \"IN_A\", dace.memlet.Memlet(f\"soft_hier_A[0:{256*32}]\"))\n",
    "    state.add_edge(dev_entry, \"OUT_A\", tblock_entry, \"IN_A\", dace.memlet.Memlet(f\"soft_hier_A[0:{256*32}]\"))\n",
    "    state.add_edge(tblock_entry, \"OUT_A\", glb_to_vecin, None, dace.memlet.Memlet(f\"soft_hier_A[i + ii:i + ii + 512]\"))\n",
    "    state.add_edge(glb_to_vecin, None, libnode, None, dace.memlet.Memlet(f\"frag_A[0:512]\"))\n",
    "    state.add_edge(libnode, None, tblock_exit, \"IN_B\", dace.memlet.Memlet(f\"soft_hier_B[i + ii:i + ii + 512]\"))\n",
    "    state.add_edge(tblock_exit, \"OUT_B\", dev_exit, \"IN_B\", dace.memlet.Memlet(f\"soft_hier_B[i + ii:i + ii + 512]\"))\n",
    "    state.add_edge(dev_exit, \"OUT_B\", bdc, None, dace.memlet.Memlet(f\"soft_hier_B[0:{256*32}]\"))\n",
    "    state.add_edge(bdc, None, bhc, None, dace.memlet.Memlet(f\"B[0:{256*32}]\"))\n",
    "\n",
    "    for n in [dev_entry, tblock_entry]:\n",
    "        n.add_in_connector(\"IN_A\")\n",
    "        n.add_out_connector(\"OUT_A\")\n",
    "\n",
    "    for n in [dev_exit, tblock_exit]:\n",
    "        n.add_in_connector(\"IN_B\")\n",
    "        n.add_out_connector(\"OUT_B\")\n",
    "\n",
    "    #libnode.add_in_connector(\"IN_A\")\n",
    "    #libnode.add_out_connector(\"OUT_B\")\n",
    "\n",
    "    #t = state.add_tasklet(name=\"assign\", inputes={\"_in\"}, outputs={\"_out\"}, code=\"_out = _in\")\n",
    "\n",
    "\n",
    "    sdfg.save(\"soft_hier_2.sdfgz\")\n",
    "    return sdfg"
   ]
  },
  {
   "cell_type": "code",
   "execution_count": 2,
   "metadata": {},
   "outputs": [],
   "source": [
    "s = vec_copy()"
   ]
  },
  {
   "cell_type": "code",
   "execution_count": null,
   "metadata": {},
   "outputs": [
    {
     "name": "stderr",
     "output_type": "stream",
     "text": [
      "/scratch/dace4softhier/dace_soft_hier/dace/sdfg/validation.py:519: UserWarning: WARNING: Use of uninitialized transient \"A\" in state \"main\"\n",
      "  warnings.warn('WARNING: Use of uninitialized transient \"%s\" in state \"%s\"' %\n",
      "/scratch/dace4softhier/dace_soft_hier/dace/codegen/targets/soft_hier/soft_hier.py:1798: UserWarning: No `gpu_block_size` property specified on map \"copy_map_outer\". Falling back to the configuration entry `compiler.cuda.default_block_size`: 32,1,1. You can either specify the block size to use with the gpu_block_size property, or by adding nested `GPU_ThreadBlock` maps, which map work to individual threads. For more information, see https://spcldace.readthedocs.io/en/latest/optimization/gpu.html\n",
      "  warnings.warn(\n"
     ]
    },
    {
     "name": "stdout",
     "output_type": "stream",
     "text": [
      "  main 0 A soft_hier_A A:None  -(A[0:8192])->  soft_hier_A:None None <dace.codegen.prettycode.CodeIOStream object at 0x7f4902d99c60>\n",
      "  main 0 soft_hier_B B soft_hier_B:None  -(B[0:8192])->  B:None None <dace.codegen.prettycode.CodeIOStream object at 0x7f4902d99c60>\n"
     ]
    },
    {
     "ename": "CompilationError",
     "evalue": "Compiler failure:\n[ 50%] Built target dacestub_soft_hier_vec_copy\n\u001b[35m\u001b[1mScanning dependencies of target soft_hier_vec_copy\u001b[0m\n[ 75%] \u001b[32mBuilding CXX object CMakeFiles/soft_hier_vec_copy.dir/scratch/dace4softhier/dace_soft_hier/dace/soft_hier/.dacecache/soft_hier_vec_copy/src/cpu/soft_hier_vec_copy.cpp.o\u001b[0m\nIn file included from /scratch/dace4softhier/dace_soft_hier/dace/codegen/../runtime/include/dace/dace.h:14,\n                 from /scratch/dace4softhier/dace_soft_hier/dace/soft_hier/.dacecache/soft_hier_vec_copy/src/cpu/soft_hier_vec_copy.cpp:2:\n/scratch/dace4softhier/dace_soft_hier/dace/codegen/../runtime/include/dace/types.h: In constructor ‘dace::half::half(float)’:\n/scratch/dace4softhier/dace_soft_hier/dace/codegen/../runtime/include/dace/types.h:93:28: warning: dereferencing type-punned pointer will break strict-aliasing rules [-Wstrict-aliasing]\n             uint32_t x = *((uint32_t*)&f);\n                           ~^~~~~~~~~~~~~~\n/scratch/dace4softhier/dace_soft_hier/dace/soft_hier/.dacecache/soft_hier_vec_copy/src/cpu/soft_hier_vec_copy.cpp: In function ‘void __program_soft_hier_vec_copy_internal(soft_hier_vec_copy_state_t*)’:\n/scratch/dace4softhier/dace_soft_hier/dace/soft_hier/.dacecache/soft_hier_vec_copy/src/cpu/soft_hier_vec_copy.cpp:16:50: warning: ignoring attributes applied to class type ‘dace::float16’ {aka ‘dace::half’} outside of definition [-Wattributes]\n         A = new dace::float16 DACE_ALIGN(64)[8192];\n                                                  ^\n/scratch/dace4softhier/dace_soft_hier/dace/soft_hier/.dacecache/soft_hier_vec_copy/src/cpu/soft_hier_vec_copy.cpp:16:50: error: no matching function for call to ‘dace::half::half()’\nIn file included from /scratch/dace4softhier/dace_soft_hier/dace/codegen/../runtime/include/dace/dace.h:14,\n                 from /scratch/dace4softhier/dace_soft_hier/dace/soft_hier/.dacecache/soft_hier_vec_copy/src/cpu/soft_hier_vec_copy.cpp:2:\n/scratch/dace4softhier/dace_soft_hier/dace/codegen/../runtime/include/dace/types.h:92:9: note: candidate: ‘dace::half::half(float)’\n         half(float f) {\n         ^~~~\n/scratch/dace4softhier/dace_soft_hier/dace/codegen/../runtime/include/dace/types.h:92:9: note:   candidate expects 1 argument, 0 provided\n/scratch/dace4softhier/dace_soft_hier/dace/codegen/../runtime/include/dace/types.h:90:12: note: candidate: ‘constexpr dace::half::half(const dace::half&)’\n     struct half {\n            ^~~~\n/scratch/dace4softhier/dace_soft_hier/dace/codegen/../runtime/include/dace/types.h:90:12: note:   candidate expects 1 argument, 0 provided\n/scratch/dace4softhier/dace_soft_hier/dace/codegen/../runtime/include/dace/types.h:90:12: note: candidate: ‘constexpr dace::half::half(dace::half&&)’\n/scratch/dace4softhier/dace_soft_hier/dace/codegen/../runtime/include/dace/types.h:90:12: note:   candidate expects 1 argument, 0 provided\n/scratch/dace4softhier/dace_soft_hier/dace/soft_hier/.dacecache/soft_hier_vec_copy/src/cpu/soft_hier_vec_copy.cpp:18:24: error: ‘aclrtMalloc’ was not declared in this scope\n         DACE_ACL_CHECK(aclrtMalloc((void**)&soft_hier_A, 8192 * sizeof(dace::float16)));\n                        ^~~~~~~~~~~\n/scratch/dace4softhier/dace_soft_hier/dace/soft_hier/.dacecache/soft_hier_vec_copy/src/cpu/soft_hier_vec_copy.cpp:18:24: note: suggested alternative: ‘realloc’\n         DACE_ACL_CHECK(aclrtMalloc((void**)&soft_hier_A, 8192 * sizeof(dace::float16)));\n                        ^~~~~~~~~~~\n                        realloc\n/scratch/dace4softhier/dace_soft_hier/dace/soft_hier/.dacecache/soft_hier_vec_copy/src/cpu/soft_hier_vec_copy.cpp:18:9: error: ‘DACE_ACL_CHECK’ was not declared in this scope\n         DACE_ACL_CHECK(aclrtMalloc((void**)&soft_hier_A, 8192 * sizeof(dace::float16)));\n         ^~~~~~~~~~~~~~\n/scratch/dace4softhier/dace_soft_hier/dace/soft_hier/.dacecache/soft_hier_vec_copy/src/cpu/soft_hier_vec_copy.cpp:18:9: note: suggested alternative: ‘DACE_ALIGN’\n         DACE_ACL_CHECK(aclrtMalloc((void**)&soft_hier_A, 8192 * sizeof(dace::float16)));\n         ^~~~~~~~~~~~~~\n         DACE_ALIGN\n/scratch/dace4softhier/dace_soft_hier/dace/soft_hier/.dacecache/soft_hier_vec_copy/src/cpu/soft_hier_vec_copy.cpp:20:50: warning: ignoring attributes applied to class type ‘dace::float16’ {aka ‘dace::half’} outside of definition [-Wattributes]\n         B = new dace::float16 DACE_ALIGN(64)[8192];\n                                                  ^\n/scratch/dace4softhier/dace_soft_hier/dace/soft_hier/.dacecache/soft_hier_vec_copy/src/cpu/soft_hier_vec_copy.cpp:20:50: error: no matching function for call to ‘dace::half::half()’\nIn file included from /scratch/dace4softhier/dace_soft_hier/dace/codegen/../runtime/include/dace/dace.h:14,\n                 from /scratch/dace4softhier/dace_soft_hier/dace/soft_hier/.dacecache/soft_hier_vec_copy/src/cpu/soft_hier_vec_copy.cpp:2:\n/scratch/dace4softhier/dace_soft_hier/dace/codegen/../runtime/include/dace/types.h:92:9: note: candidate: ‘dace::half::half(float)’\n         half(float f) {\n         ^~~~\n/scratch/dace4softhier/dace_soft_hier/dace/codegen/../runtime/include/dace/types.h:92:9: note:   candidate expects 1 argument, 0 provided\n/scratch/dace4softhier/dace_soft_hier/dace/codegen/../runtime/include/dace/types.h:90:12: note: candidate: ‘constexpr dace::half::half(const dace::half&)’\n     struct half {\n            ^~~~\n/scratch/dace4softhier/dace_soft_hier/dace/codegen/../runtime/include/dace/types.h:90:12: note:   candidate expects 1 argument, 0 provided\n/scratch/dace4softhier/dace_soft_hier/dace/codegen/../runtime/include/dace/types.h:90:12: note: candidate: ‘constexpr dace::half::half(dace::half&&)’\n/scratch/dace4softhier/dace_soft_hier/dace/codegen/../runtime/include/dace/types.h:90:12: note:   candidate expects 1 argument, 0 provided\n/scratch/dace4softhier/dace_soft_hier/dace/soft_hier/.dacecache/soft_hier_vec_copy/src/cpu/soft_hier_vec_copy.cpp:27:56: error: invalid conversion from ‘dace::float16*’ {aka ‘dace::half*’} to ‘uint32_t’ {aka ‘unsigned int’} [-fpermissive]\n         __dace_runkernel_copy_map_outer_0_0_4(__state, soft_hier_A, soft_hier_B);\n                                                        ^~~~~~~~~~~\n/scratch/dace4softhier/dace_soft_hier/dace/soft_hier/.dacecache/soft_hier_vec_copy/src/cpu/soft_hier_vec_copy.cpp:9:104: note:   initializing argument 2 of ‘void __dace_runkernel_copy_map_outer_0_0_4(soft_hier_vec_copy_state_t*, uint32_t, uint32_t)’\n DACE_EXPORTED void __dace_runkernel_copy_map_outer_0_0_4(soft_hier_vec_copy_state_t *__state, uint32_t soft_hier_A, uint32_t soft_hier_B);\n                                                                                               ~~~~~~~~~^~~~~~~~~~~\n/scratch/dace4softhier/dace_soft_hier/dace/soft_hier/.dacecache/soft_hier_vec_copy/src/cpu/soft_hier_vec_copy.cpp:27:69: error: invalid conversion from ‘dace::float16*’ {aka ‘dace::half*’} to ‘uint32_t’ {aka ‘unsigned int’} [-fpermissive]\n         __dace_runkernel_copy_map_outer_0_0_4(__state, soft_hier_A, soft_hier_B);\n                                                                     ^~~~~~~~~~~\n/scratch/dace4softhier/dace_soft_hier/dace/soft_hier/.dacecache/soft_hier_vec_copy/src/cpu/soft_hier_vec_copy.cpp:9:126: note:   initializing argument 3 of ‘void __dace_runkernel_copy_map_outer_0_0_4(soft_hier_vec_copy_state_t*, uint32_t, uint32_t)’\n DACE_EXPORTED void __dace_runkernel_copy_map_outer_0_0_4(soft_hier_vec_copy_state_t *__state, uint32_t soft_hier_A, uint32_t soft_hier_B);\n                                                                                                                     ~~~~~~~~~^~~~~~~~~~~\ngmake[2]: *** [CMakeFiles/soft_hier_vec_copy.dir/build.make:82: CMakeFiles/soft_hier_vec_copy.dir/scratch/dace4softhier/dace_soft_hier/dace/soft_hier/.dacecache/soft_hier_vec_copy/src/cpu/soft_hier_vec_copy.cpp.o] Error 1\ngmake[1]: *** [CMakeFiles/Makefile2:124: CMakeFiles/soft_hier_vec_copy.dir/all] Error 2\ngmake: *** [Makefile:103: all] Error 2\n",
     "output_type": "error",
     "traceback": [
      "\u001b[0;31m---------------------------------------------------------------------------\u001b[0m",
      "\u001b[0;31mCalledProcessError\u001b[0m                        Traceback (most recent call last)",
      "File \u001b[0;32m/scratch/dace4softhier/dace_soft_hier/dace/codegen/compiler.py:245\u001b[0m, in \u001b[0;36mconfigure_and_compile\u001b[0;34m(program_folder, program_name, output_stream)\u001b[0m\n\u001b[1;32m    244\u001b[0m \u001b[38;5;28;01mtry\u001b[39;00m:\n\u001b[0;32m--> 245\u001b[0m     \u001b[43m_run_liveoutput\u001b[49m\u001b[43m(\u001b[49m\u001b[38;5;124;43m\"\u001b[39;49m\u001b[38;5;124;43mcmake --build . --config \u001b[39;49m\u001b[38;5;132;43;01m%s\u001b[39;49;00m\u001b[38;5;124;43m\"\u001b[39;49m\u001b[43m \u001b[49m\u001b[38;5;241;43m%\u001b[39;49m\u001b[43m \u001b[49m\u001b[43m(\u001b[49m\u001b[43mConfig\u001b[49m\u001b[38;5;241;43m.\u001b[39;49m\u001b[43mget\u001b[49m\u001b[43m(\u001b[49m\u001b[38;5;124;43m'\u001b[39;49m\u001b[38;5;124;43mcompiler\u001b[39;49m\u001b[38;5;124;43m'\u001b[39;49m\u001b[43m,\u001b[49m\u001b[43m \u001b[49m\u001b[38;5;124;43m'\u001b[39;49m\u001b[38;5;124;43mbuild_type\u001b[39;49m\u001b[38;5;124;43m'\u001b[39;49m\u001b[43m)\u001b[49m\u001b[43m)\u001b[49m\u001b[43m,\u001b[49m\n\u001b[1;32m    246\u001b[0m \u001b[43m                    \u001b[49m\u001b[43mshell\u001b[49m\u001b[38;5;241;43m=\u001b[39;49m\u001b[38;5;28;43;01mTrue\u001b[39;49;00m\u001b[43m,\u001b[49m\n\u001b[1;32m    247\u001b[0m \u001b[43m                    \u001b[49m\u001b[43mcwd\u001b[49m\u001b[38;5;241;43m=\u001b[39;49m\u001b[43mbuild_folder\u001b[49m\u001b[43m,\u001b[49m\n\u001b[1;32m    248\u001b[0m \u001b[43m                    \u001b[49m\u001b[43moutput_stream\u001b[49m\u001b[38;5;241;43m=\u001b[39;49m\u001b[43moutput_stream\u001b[49m\u001b[43m)\u001b[49m\n\u001b[1;32m    249\u001b[0m \u001b[38;5;28;01mexcept\u001b[39;00m subprocess\u001b[38;5;241m.\u001b[39mCalledProcessError \u001b[38;5;28;01mas\u001b[39;00m ex:\n\u001b[1;32m    250\u001b[0m     \u001b[38;5;66;03m# If unsuccessful, print results\u001b[39;00m\n",
      "File \u001b[0;32m/scratch/dace4softhier/dace_soft_hier/dace/codegen/compiler.py:429\u001b[0m, in \u001b[0;36m_run_liveoutput\u001b[0;34m(command, output_stream, **kwargs)\u001b[0m\n\u001b[1;32m    428\u001b[0m \u001b[38;5;28;01mif\u001b[39;00m process\u001b[38;5;241m.\u001b[39mreturncode \u001b[38;5;241m!=\u001b[39m \u001b[38;5;241m0\u001b[39m:\n\u001b[0;32m--> 429\u001b[0m     \u001b[38;5;28;01mraise\u001b[39;00m subprocess\u001b[38;5;241m.\u001b[39mCalledProcessError(process\u001b[38;5;241m.\u001b[39mreturncode, command, output\u001b[38;5;241m.\u001b[39mgetvalue())\n",
      "\u001b[0;31mCalledProcessError\u001b[0m: Command 'cmake --build . --config RelWithDebInfo' returned non-zero exit status 2.",
      "\nDuring handling of the above exception, another exception occurred:\n",
      "\u001b[0;31mCompilationError\u001b[0m                          Traceback (most recent call last)",
      "Cell \u001b[0;32mIn[3], line 3\u001b[0m\n\u001b[1;32m      1\u001b[0m \u001b[38;5;28;01mfrom\u001b[39;00m \u001b[38;5;21;01mIPython\u001b[39;00m\u001b[38;5;21;01m.\u001b[39;00m\u001b[38;5;21;01mdisplay\u001b[39;00m \u001b[38;5;28;01mimport\u001b[39;00m Code\n\u001b[1;32m      2\u001b[0m \u001b[38;5;66;03m# Code(s.generate_code()[0].clean_code, language='cpp')\u001b[39;00m\n\u001b[0;32m----> 3\u001b[0m \u001b[43ms\u001b[49m\u001b[38;5;241;43m.\u001b[39;49m\u001b[43mcompile\u001b[49m\u001b[43m(\u001b[49m\u001b[43m)\u001b[49m\n",
      "File \u001b[0;32m/scratch/dace4softhier/dace_soft_hier/dace/sdfg/sdfg.py:2359\u001b[0m, in \u001b[0;36mSDFG.compile\u001b[0;34m(self, output_file, validate, return_program_handle)\u001b[0m\n\u001b[1;32m   2356\u001b[0m     sdfg \u001b[38;5;241m=\u001b[39m \u001b[38;5;28mself\u001b[39m\n\u001b[1;32m   2358\u001b[0m \u001b[38;5;66;03m# Compile the code and get the shared library path\u001b[39;00m\n\u001b[0;32m-> 2359\u001b[0m shared_library \u001b[38;5;241m=\u001b[39m \u001b[43mcompiler\u001b[49m\u001b[38;5;241;43m.\u001b[39;49m\u001b[43mconfigure_and_compile\u001b[49m\u001b[43m(\u001b[49m\u001b[43mprogram_folder\u001b[49m\u001b[43m,\u001b[49m\u001b[43m \u001b[49m\u001b[43msdfg\u001b[49m\u001b[38;5;241;43m.\u001b[39;49m\u001b[43mname\u001b[49m\u001b[43m)\u001b[49m\n\u001b[1;32m   2361\u001b[0m \u001b[38;5;66;03m# If provided, save output to path or filename\u001b[39;00m\n\u001b[1;32m   2362\u001b[0m \u001b[38;5;28;01mif\u001b[39;00m output_file \u001b[38;5;129;01mis\u001b[39;00m \u001b[38;5;129;01mnot\u001b[39;00m \u001b[38;5;28;01mNone\u001b[39;00m:\n",
      "File \u001b[0;32m/scratch/dace4softhier/dace_soft_hier/dace/codegen/compiler.py:254\u001b[0m, in \u001b[0;36mconfigure_and_compile\u001b[0;34m(program_folder, program_name, output_stream)\u001b[0m\n\u001b[1;32m    252\u001b[0m         \u001b[38;5;28;01mraise\u001b[39;00m cgx\u001b[38;5;241m.\u001b[39mCompilationError(\u001b[38;5;124m'\u001b[39m\u001b[38;5;124mCompiler failure\u001b[39m\u001b[38;5;124m'\u001b[39m)\n\u001b[1;32m    253\u001b[0m     \u001b[38;5;28;01melse\u001b[39;00m:\n\u001b[0;32m--> 254\u001b[0m         \u001b[38;5;28;01mraise\u001b[39;00m cgx\u001b[38;5;241m.\u001b[39mCompilationError(\u001b[38;5;124m'\u001b[39m\u001b[38;5;124mCompiler failure:\u001b[39m\u001b[38;5;130;01m\\n\u001b[39;00m\u001b[38;5;124m'\u001b[39m \u001b[38;5;241m+\u001b[39m ex\u001b[38;5;241m.\u001b[39moutput)\n\u001b[1;32m    256\u001b[0m shared_library_path \u001b[38;5;241m=\u001b[39m os\u001b[38;5;241m.\u001b[39mpath\u001b[38;5;241m.\u001b[39mjoin(build_folder, \u001b[38;5;124m\"\u001b[39m\u001b[38;5;124mlib\u001b[39m\u001b[38;5;132;01m{}\u001b[39;00m\u001b[38;5;124m.\u001b[39m\u001b[38;5;132;01m{}\u001b[39;00m\u001b[38;5;124m\"\u001b[39m\u001b[38;5;241m.\u001b[39mformat(program_name,\n\u001b[1;32m    257\u001b[0m                                                                    Config\u001b[38;5;241m.\u001b[39mget(\u001b[38;5;124m'\u001b[39m\u001b[38;5;124mcompiler\u001b[39m\u001b[38;5;124m'\u001b[39m, \u001b[38;5;124m'\u001b[39m\u001b[38;5;124mlibrary_extension\u001b[39m\u001b[38;5;124m'\u001b[39m)))\n\u001b[1;32m    259\u001b[0m \u001b[38;5;28;01mreturn\u001b[39;00m shared_library_path\n",
      "\u001b[0;31mCompilationError\u001b[0m: Compiler failure:\n[ 50%] Built target dacestub_soft_hier_vec_copy\n\u001b[35m\u001b[1mScanning dependencies of target soft_hier_vec_copy\u001b[0m\n[ 75%] \u001b[32mBuilding CXX object CMakeFiles/soft_hier_vec_copy.dir/scratch/dace4softhier/dace_soft_hier/dace/soft_hier/.dacecache/soft_hier_vec_copy/src/cpu/soft_hier_vec_copy.cpp.o\u001b[0m\nIn file included from /scratch/dace4softhier/dace_soft_hier/dace/codegen/../runtime/include/dace/dace.h:14,\n                 from /scratch/dace4softhier/dace_soft_hier/dace/soft_hier/.dacecache/soft_hier_vec_copy/src/cpu/soft_hier_vec_copy.cpp:2:\n/scratch/dace4softhier/dace_soft_hier/dace/codegen/../runtime/include/dace/types.h: In constructor ‘dace::half::half(float)’:\n/scratch/dace4softhier/dace_soft_hier/dace/codegen/../runtime/include/dace/types.h:93:28: warning: dereferencing type-punned pointer will break strict-aliasing rules [-Wstrict-aliasing]\n             uint32_t x = *((uint32_t*)&f);\n                           ~^~~~~~~~~~~~~~\n/scratch/dace4softhier/dace_soft_hier/dace/soft_hier/.dacecache/soft_hier_vec_copy/src/cpu/soft_hier_vec_copy.cpp: In function ‘void __program_soft_hier_vec_copy_internal(soft_hier_vec_copy_state_t*)’:\n/scratch/dace4softhier/dace_soft_hier/dace/soft_hier/.dacecache/soft_hier_vec_copy/src/cpu/soft_hier_vec_copy.cpp:16:50: warning: ignoring attributes applied to class type ‘dace::float16’ {aka ‘dace::half’} outside of definition [-Wattributes]\n         A = new dace::float16 DACE_ALIGN(64)[8192];\n                                                  ^\n/scratch/dace4softhier/dace_soft_hier/dace/soft_hier/.dacecache/soft_hier_vec_copy/src/cpu/soft_hier_vec_copy.cpp:16:50: error: no matching function for call to ‘dace::half::half()’\nIn file included from /scratch/dace4softhier/dace_soft_hier/dace/codegen/../runtime/include/dace/dace.h:14,\n                 from /scratch/dace4softhier/dace_soft_hier/dace/soft_hier/.dacecache/soft_hier_vec_copy/src/cpu/soft_hier_vec_copy.cpp:2:\n/scratch/dace4softhier/dace_soft_hier/dace/codegen/../runtime/include/dace/types.h:92:9: note: candidate: ‘dace::half::half(float)’\n         half(float f) {\n         ^~~~\n/scratch/dace4softhier/dace_soft_hier/dace/codegen/../runtime/include/dace/types.h:92:9: note:   candidate expects 1 argument, 0 provided\n/scratch/dace4softhier/dace_soft_hier/dace/codegen/../runtime/include/dace/types.h:90:12: note: candidate: ‘constexpr dace::half::half(const dace::half&)’\n     struct half {\n            ^~~~\n/scratch/dace4softhier/dace_soft_hier/dace/codegen/../runtime/include/dace/types.h:90:12: note:   candidate expects 1 argument, 0 provided\n/scratch/dace4softhier/dace_soft_hier/dace/codegen/../runtime/include/dace/types.h:90:12: note: candidate: ‘constexpr dace::half::half(dace::half&&)’\n/scratch/dace4softhier/dace_soft_hier/dace/codegen/../runtime/include/dace/types.h:90:12: note:   candidate expects 1 argument, 0 provided\n/scratch/dace4softhier/dace_soft_hier/dace/soft_hier/.dacecache/soft_hier_vec_copy/src/cpu/soft_hier_vec_copy.cpp:18:24: error: ‘aclrtMalloc’ was not declared in this scope\n         DACE_ACL_CHECK(aclrtMalloc((void**)&soft_hier_A, 8192 * sizeof(dace::float16)));\n                        ^~~~~~~~~~~\n/scratch/dace4softhier/dace_soft_hier/dace/soft_hier/.dacecache/soft_hier_vec_copy/src/cpu/soft_hier_vec_copy.cpp:18:24: note: suggested alternative: ‘realloc’\n         DACE_ACL_CHECK(aclrtMalloc((void**)&soft_hier_A, 8192 * sizeof(dace::float16)));\n                        ^~~~~~~~~~~\n                        realloc\n/scratch/dace4softhier/dace_soft_hier/dace/soft_hier/.dacecache/soft_hier_vec_copy/src/cpu/soft_hier_vec_copy.cpp:18:9: error: ‘DACE_ACL_CHECK’ was not declared in this scope\n         DACE_ACL_CHECK(aclrtMalloc((void**)&soft_hier_A, 8192 * sizeof(dace::float16)));\n         ^~~~~~~~~~~~~~\n/scratch/dace4softhier/dace_soft_hier/dace/soft_hier/.dacecache/soft_hier_vec_copy/src/cpu/soft_hier_vec_copy.cpp:18:9: note: suggested alternative: ‘DACE_ALIGN’\n         DACE_ACL_CHECK(aclrtMalloc((void**)&soft_hier_A, 8192 * sizeof(dace::float16)));\n         ^~~~~~~~~~~~~~\n         DACE_ALIGN\n/scratch/dace4softhier/dace_soft_hier/dace/soft_hier/.dacecache/soft_hier_vec_copy/src/cpu/soft_hier_vec_copy.cpp:20:50: warning: ignoring attributes applied to class type ‘dace::float16’ {aka ‘dace::half’} outside of definition [-Wattributes]\n         B = new dace::float16 DACE_ALIGN(64)[8192];\n                                                  ^\n/scratch/dace4softhier/dace_soft_hier/dace/soft_hier/.dacecache/soft_hier_vec_copy/src/cpu/soft_hier_vec_copy.cpp:20:50: error: no matching function for call to ‘dace::half::half()’\nIn file included from /scratch/dace4softhier/dace_soft_hier/dace/codegen/../runtime/include/dace/dace.h:14,\n                 from /scratch/dace4softhier/dace_soft_hier/dace/soft_hier/.dacecache/soft_hier_vec_copy/src/cpu/soft_hier_vec_copy.cpp:2:\n/scratch/dace4softhier/dace_soft_hier/dace/codegen/../runtime/include/dace/types.h:92:9: note: candidate: ‘dace::half::half(float)’\n         half(float f) {\n         ^~~~\n/scratch/dace4softhier/dace_soft_hier/dace/codegen/../runtime/include/dace/types.h:92:9: note:   candidate expects 1 argument, 0 provided\n/scratch/dace4softhier/dace_soft_hier/dace/codegen/../runtime/include/dace/types.h:90:12: note: candidate: ‘constexpr dace::half::half(const dace::half&)’\n     struct half {\n            ^~~~\n/scratch/dace4softhier/dace_soft_hier/dace/codegen/../runtime/include/dace/types.h:90:12: note:   candidate expects 1 argument, 0 provided\n/scratch/dace4softhier/dace_soft_hier/dace/codegen/../runtime/include/dace/types.h:90:12: note: candidate: ‘constexpr dace::half::half(dace::half&&)’\n/scratch/dace4softhier/dace_soft_hier/dace/codegen/../runtime/include/dace/types.h:90:12: note:   candidate expects 1 argument, 0 provided\n/scratch/dace4softhier/dace_soft_hier/dace/soft_hier/.dacecache/soft_hier_vec_copy/src/cpu/soft_hier_vec_copy.cpp:27:56: error: invalid conversion from ‘dace::float16*’ {aka ‘dace::half*’} to ‘uint32_t’ {aka ‘unsigned int’} [-fpermissive]\n         __dace_runkernel_copy_map_outer_0_0_4(__state, soft_hier_A, soft_hier_B);\n                                                        ^~~~~~~~~~~\n/scratch/dace4softhier/dace_soft_hier/dace/soft_hier/.dacecache/soft_hier_vec_copy/src/cpu/soft_hier_vec_copy.cpp:9:104: note:   initializing argument 2 of ‘void __dace_runkernel_copy_map_outer_0_0_4(soft_hier_vec_copy_state_t*, uint32_t, uint32_t)’\n DACE_EXPORTED void __dace_runkernel_copy_map_outer_0_0_4(soft_hier_vec_copy_state_t *__state, uint32_t soft_hier_A, uint32_t soft_hier_B);\n                                                                                               ~~~~~~~~~^~~~~~~~~~~\n/scratch/dace4softhier/dace_soft_hier/dace/soft_hier/.dacecache/soft_hier_vec_copy/src/cpu/soft_hier_vec_copy.cpp:27:69: error: invalid conversion from ‘dace::float16*’ {aka ‘dace::half*’} to ‘uint32_t’ {aka ‘unsigned int’} [-fpermissive]\n         __dace_runkernel_copy_map_outer_0_0_4(__state, soft_hier_A, soft_hier_B);\n                                                                     ^~~~~~~~~~~\n/scratch/dace4softhier/dace_soft_hier/dace/soft_hier/.dacecache/soft_hier_vec_copy/src/cpu/soft_hier_vec_copy.cpp:9:126: note:   initializing argument 3 of ‘void __dace_runkernel_copy_map_outer_0_0_4(soft_hier_vec_copy_state_t*, uint32_t, uint32_t)’\n DACE_EXPORTED void __dace_runkernel_copy_map_outer_0_0_4(soft_hier_vec_copy_state_t *__state, uint32_t soft_hier_A, uint32_t soft_hier_B);\n                                                                                                                     ~~~~~~~~~^~~~~~~~~~~\ngmake[2]: *** [CMakeFiles/soft_hier_vec_copy.dir/build.make:82: CMakeFiles/soft_hier_vec_copy.dir/scratch/dace4softhier/dace_soft_hier/dace/soft_hier/.dacecache/soft_hier_vec_copy/src/cpu/soft_hier_vec_copy.cpp.o] Error 1\ngmake[1]: *** [CMakeFiles/Makefile2:124: CMakeFiles/soft_hier_vec_copy.dir/all] Error 2\ngmake: *** [Makefile:103: all] Error 2\n"
     ]
    }
   ],
   "source": [
    "from IPython.display import Code\n",
    "# Code(s.generate_code()[0].clean_code, language='cpp')\n",
    "# s.compile()"
   ]
  },
  {
   "cell_type": "code",
   "execution_count": null,
   "metadata": {},
   "outputs": [],
   "source": [
    "Code(s.generate_code()[1].clean_code, language='cpp')"
   ]
  }
 ],
 "metadata": {
  "kernelspec": {
   "display_name": "Python 3",
   "language": "python",
   "name": "python3"
  },
  "language_info": {
   "codemirror_mode": {
    "name": "ipython",
    "version": 3
   },
   "file_extension": ".py",
   "mimetype": "text/x-python",
   "name": "python",
   "nbconvert_exporter": "python",
   "pygments_lexer": "ipython3",
   "version": "3.11.5"
  }
 },
 "nbformat": 4,
 "nbformat_minor": 2
}
